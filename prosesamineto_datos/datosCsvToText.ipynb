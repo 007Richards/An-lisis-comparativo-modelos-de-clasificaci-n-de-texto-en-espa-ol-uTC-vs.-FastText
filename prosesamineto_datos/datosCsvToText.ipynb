{
 "cells": [
  {
   "cell_type": "code",
   "execution_count": 3,
   "id": "88808546-8fdc-4423-979a-56215a293e3f",
   "metadata": {},
   "outputs": [],
   "source": [
    "import pandas as pd\n",
    "import csv\n",
    "\n",
    "# Leer tu CSV\n",
    "df = pd.read_csv('Rest-Mex25_Typ_test.csv', header=None)\n",
    "\n",
    "# Borrar filas que estén vacías\n",
    "df = df.dropna()\n",
    "\n",
    "# Guardar el archivo sin comillas dobles\n",
    "df[0].to_csv('Rest-Mex25_Typ_test.txt', index=False, header=False, quoting=csv.QUOTE_NONE, escapechar='\\\\')"
   ]
  },
  {
   "cell_type": "code",
   "execution_count": null,
   "id": "de26566b-c242-416a-9c00-8e8d48b099e0",
   "metadata": {},
   "outputs": [],
   "source": []
  },
  {
   "cell_type": "code",
   "execution_count": null,
   "id": "b97004ae-34c4-4d33-9b99-8e9146814069",
   "metadata": {},
   "outputs": [],
   "source": []
  }
 ],
 "metadata": {
  "kernelspec": {
   "display_name": "Python 3 (ipykernel)",
   "language": "python",
   "name": "python3"
  },
  "language_info": {
   "codemirror_mode": {
    "name": "ipython",
    "version": 3
   },
   "file_extension": ".py",
   "mimetype": "text/x-python",
   "name": "python",
   "nbconvert_exporter": "python",
   "pygments_lexer": "ipython3",
   "version": "3.12.4"
  }
 },
 "nbformat": 4,
 "nbformat_minor": 5
}
