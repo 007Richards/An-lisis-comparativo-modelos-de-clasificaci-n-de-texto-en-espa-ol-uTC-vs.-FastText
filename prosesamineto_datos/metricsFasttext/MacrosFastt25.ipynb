{
 "cells": [
  {
   "cell_type": "code",
   "execution_count": 1,
   "id": "e3597f3b-5fcc-48c5-b42f-1b64a6444d29",
   "metadata": {},
   "outputs": [
    {
     "name": "stdout",
     "output_type": "stream",
     "text": [
      "Líneas en test.txt: 50537\n"
     ]
    }
   ],
   "source": [
    "with open(\"predicciones.txt\", \"r\", encoding=\"utf-8\") as f:\n",
    "    lines = f.readlines()\n",
    "print(\"Líneas en test.txt:\", len(lines))"
   ]
  },
  {
   "cell_type": "code",
   "execution_count": 2,
   "id": "712bc0d5-af5b-4d22-8603-ca5ac638e814",
   "metadata": {},
   "outputs": [
    {
     "name": "stdout",
     "output_type": "stream",
     "text": [
      "Líneas en test.txt: 50537\n"
     ]
    }
   ],
   "source": [
    "with open(\"Rest-Mex25_Typ_test.txt\", \"r\", encoding=\"utf-8\") as f:\n",
    "    lines = f.readlines()\n",
    "print(\"Líneas en test.txt:\", len(lines))\n"
   ]
  },
  {
   "cell_type": "code",
   "execution_count": 3,
   "id": "b5bb2236-57e2-4b16-9214-832e92e8a772",
   "metadata": {},
   "outputs": [
    {
     "name": "stdout",
     "output_type": "stream",
     "text": [
      "Len y_true: 50537, Len y_pred: 50537\n"
     ]
    }
   ],
   "source": [
    "y_pred = []\n",
    "with open('predicciones.txt', 'r', encoding='utf-8') as f:\n",
    "    for line in f:\n",
    "        top_label = line.strip().split()[0].replace('__label__', '')  # quitamos \"__label__\"\n",
    "        y_pred.append(top_label)   # esto por que en el servidor las clases salen por prob. y se selec. la primera con mas prob.\n",
    "\n",
    "y_true = []\n",
    "with open('Rest-Mex25_Typ_test.txt', 'r', encoding='utf-8') as f:\n",
    "    for line in f:\n",
    "        etiqueta = line.split(' ')[0].replace('__label__', '')  # solo nos quedamos con la etiqueta\n",
    "        y_true.append(etiqueta)\n",
    "\n",
    "print(f\"Len y_true: {len(y_true)}, Len y_pred: {len(y_pred)}\")"
   ]
  },
  {
   "cell_type": "code",
   "execution_count": 4,
   "id": "4565bbc8-ac98-4245-ac82-bbbc9f4910a8",
   "metadata": {},
   "outputs": [
    {
     "name": "stdout",
     "output_type": "stream",
     "text": [
      "Macro Accuracy: 0.7777\n",
      "\n",
      "F1-Score por clase:\n",
      "Clase Attractive: F1 = 0.9388\n",
      "Clase Hotel: F1 = 0.9344\n",
      "Clase Restaurant: F1 = 0.7590\n",
      "\n",
      "Macro F1-Score: 0.8774\n"
     ]
    }
   ],
   "source": [
    "from sklearn.metrics import f1_score, accuracy_score\n",
    "\n",
    "# Macro-Accuracy\n",
    "macro_accuracy = accuracy_score(y_true, y_pred)\n",
    "print(f\"Macro Accuracy: {macro_accuracy:.4f}\")\n",
    "\n",
    "# F1 por clase\n",
    "f1_por_clase = f1_score(y_true, y_pred, average=None, labels=[\"Attractive\", \"Hotel\", \"Restaurant\"])\n",
    "\n",
    "print(\"\\nF1-Score por clase:\")\n",
    "for clase, f1 in zip([\"Attractive\", \"Hotel\", \"Restaurant\"], f1_por_clase):\n",
    "    print(f\"Clase {clase}: F1 = {f1:.4f}\")\n",
    "\n",
    "# Macro F1\n",
    "macro_f1 = f1_score(y_true, y_pred, average='macro', labels=[\"Attractive\", \"Hotel\", \"Restaurant\"])\n",
    "print(f\"\\nMacro F1-Score: {macro_f1:.4f}\")"
   ]
  },
  {
   "cell_type": "markdown",
   "id": "5d819504-8a5b-41d5-b36f-4792a8edf951",
   "metadata": {},
   "source": [
    "'Baja_CaliforniaSur', \n",
    "'Chiapas', \n",
    "\"Chihuahua\",\n",
    "\"Coahuila\",\n",
    "\"Estado_de_Mexico\",\n",
    "\"Guanajuato\",\n",
    "\"Guerrero\",\n",
    "\"Hidalgo\",\n",
    "\"Jalisco\",\n",
    "\"Michoacan\",\n",
    "\"Morelos\",\n",
    "\"Nayarit\",\n",
    "\"Oaxaca\",\n",
    "\"Puebla\",\n",
    "\"Queretaro\",\n",
    "\"QuintanaRoo\",\n",
    "\"San_Luis_Potosi\",\n",
    "\"Veracruz\",\n",
    "\"Yucatan\""
   ]
  },
  {
   "cell_type": "markdown",
   "id": "a4df94e9-6363-45a3-9d69-77a6ca67f1d3",
   "metadata": {},
   "source": [
    "\"Ajijic\",\n",
    "\"Atlixco\",\n",
    "\"Bacalar\",\n",
    "\"Bernal\",\n",
    "\"Chiapa_de_Corzo\",\n",
    "\"Cholula\",\n",
    "\"Coatepec\",\n",
    "\"Creel\",\n",
    "\"Cuatro_Cienegas\",\n",
    "\"Cuetzalan\",\n",
    "\"Dolores_Hidalgo\",\n",
    "\"Huasca_de_Ocampo\",\n",
    "\"Isla_Mujeres\",\n",
    "\"Ixtapan_de_la_Sal\",\n",
    "\"Izamal\",\n",
    "\"Loreto\",\n",
    "\"Malinalco\",\n",
    "\"Mazunte\",\n",
    "\"Metepec\",\n",
    "\"Orizaba\",\n",
    "\"Palenque\",\n",
    "\"Parras\",\n",
    "\"Patzcuaro\",\n",
    "\"Real_de_Catorce\",\n",
    "\"San_Cristobal_de_las_Casas\",\n",
    "\"Sayulita\",\n",
    "\"Tapalpa\",\n",
    "\"Taxco\",\n",
    "\"Teotihuacan\",\n",
    "\"Tepotzotlan\",\n",
    "\"Tepoztlan\",\n",
    "\"Tequila\",\n",
    "\"Tequisquiapan\",\n",
    "\"Tlaquepaque\",\n",
    "\"TodosSantos\",\n",
    "\"Tulum\",\n",
    "\"Valladolid\",\n",
    "\"Valle_de_Bravo\",\n",
    "\"Xilitla\",\n",
    "\"Zacatlan\""
   ]
  }
 ],
 "metadata": {
  "kernelspec": {
   "display_name": "Python 3 (ipykernel)",
   "language": "python",
   "name": "python3"
  },
  "language_info": {
   "codemirror_mode": {
    "name": "ipython",
    "version": 3
   },
   "file_extension": ".py",
   "mimetype": "text/x-python",
   "name": "python",
   "nbconvert_exporter": "python",
   "pygments_lexer": "ipython3",
   "version": "3.12.4"
  }
 },
 "nbformat": 4,
 "nbformat_minor": 5
}
