{
 "cells": [
  {
   "cell_type": "code",
   "execution_count": 2,
   "id": "bc95e07f-34b9-44aa-aae2-5c7ce14d7c08",
   "metadata": {},
   "outputs": [],
   "source": [
    "import pandas as pd\n",
    "from sklearn.model_selection import train_test_split"
   ]
  },
  {
   "cell_type": "code",
   "execution_count": 8,
   "id": "aa9d05e3-c66a-408f-a384-266f46ca53a4",
   "metadata": {},
   "outputs": [
    {
     "data": {
      "text/html": [
       "<div>\n",
       "<style scoped>\n",
       "    .dataframe tbody tr th:only-of-type {\n",
       "        vertical-align: middle;\n",
       "    }\n",
       "\n",
       "    .dataframe tbody tr th {\n",
       "        vertical-align: top;\n",
       "    }\n",
       "\n",
       "    .dataframe thead th {\n",
       "        text-align: right;\n",
       "    }\n",
       "</style>\n",
       "<table border=\"1\" class=\"dataframe\">\n",
       "  <thead>\n",
       "    <tr style=\"text-align: right;\">\n",
       "      <th></th>\n",
       "      <th>Title</th>\n",
       "      <th>Review</th>\n",
       "      <th>Polarity</th>\n",
       "      <th>Town</th>\n",
       "      <th>Region</th>\n",
       "      <th>Type</th>\n",
       "    </tr>\n",
       "  </thead>\n",
       "  <tbody>\n",
       "    <tr>\n",
       "      <th>0</th>\n",
       "      <td>Mi Lugar Favorito!!!!</td>\n",
       "      <td>Excelente lugar para comer y pasar una buena n...</td>\n",
       "      <td>5.0</td>\n",
       "      <td>Sayulita</td>\n",
       "      <td>Nayarit</td>\n",
       "      <td>Restaurant</td>\n",
       "    </tr>\n",
       "    <tr>\n",
       "      <th>1</th>\n",
       "      <td>lugares interesantes para visitar</td>\n",
       "      <td>andar mucho, así que un poco difícil para pers...</td>\n",
       "      <td>4.0</td>\n",
       "      <td>Tulum</td>\n",
       "      <td>QuintanaRoo</td>\n",
       "      <td>Attractive</td>\n",
       "    </tr>\n",
       "    <tr>\n",
       "      <th>2</th>\n",
       "      <td>No es el mismo Dreams</td>\n",
       "      <td>Es nuestra cuarta visita a Dreams Tulum, elegi...</td>\n",
       "      <td>3.0</td>\n",
       "      <td>Tulum</td>\n",
       "      <td>QuintanaRoo</td>\n",
       "      <td>Hotel</td>\n",
       "    </tr>\n",
       "    <tr>\n",
       "      <th>3</th>\n",
       "      <td>un buen panorama cerca de CancÃºn</td>\n",
       "      <td>Estando en CancÃºn, fuimos al puerto y tomamos...</td>\n",
       "      <td>4.0</td>\n",
       "      <td>Isla_Mujeres</td>\n",
       "      <td>QuintanaRoo</td>\n",
       "      <td>Attractive</td>\n",
       "    </tr>\n",
       "    <tr>\n",
       "      <th>4</th>\n",
       "      <td>El mejor</td>\n",
       "      <td>Es un lugar antiguo y por eso me encanto tiene...</td>\n",
       "      <td>5.0</td>\n",
       "      <td>Patzcuaro</td>\n",
       "      <td>Michoacan</td>\n",
       "      <td>Hotel</td>\n",
       "    </tr>\n",
       "  </tbody>\n",
       "</table>\n",
       "</div>"
      ],
      "text/plain": [
       "                               Title  \\\n",
       "0              Mi Lugar Favorito!!!!   \n",
       "1  lugares interesantes para visitar   \n",
       "2             No es el mismo Dreams    \n",
       "3  un buen panorama cerca de CancÃºn   \n",
       "4                           El mejor   \n",
       "\n",
       "                                              Review  Polarity          Town  \\\n",
       "0  Excelente lugar para comer y pasar una buena n...       5.0      Sayulita   \n",
       "1  andar mucho, así que un poco difícil para pers...       4.0         Tulum   \n",
       "2  Es nuestra cuarta visita a Dreams Tulum, elegi...       3.0         Tulum   \n",
       "3  Estando en CancÃºn, fuimos al puerto y tomamos...       4.0  Isla_Mujeres   \n",
       "4  Es un lugar antiguo y por eso me encanto tiene...       5.0     Patzcuaro   \n",
       "\n",
       "        Region        Type  \n",
       "0      Nayarit  Restaurant  \n",
       "1  QuintanaRoo  Attractive  \n",
       "2  QuintanaRoo       Hotel  \n",
       "3  QuintanaRoo  Attractive  \n",
       "4    Michoacan       Hotel  "
      ]
     },
     "execution_count": 8,
     "metadata": {},
     "output_type": "execute_result"
    }
   ],
   "source": [
    "df = pd.read_csv(\"Rest-Mex_2025_train.csv\")\n",
    "df.head()"
   ]
  },
  {
   "cell_type": "markdown",
   "id": "c91b9eeb-7546-4a63-8bf6-37294043777e",
   "metadata": {},
   "source": [
    "## DATOS TO JSON (MICROTC)"
   ]
  },
  {
   "cell_type": "code",
   "execution_count": 10,
   "id": "bfd84193-aacf-45da-b5a9-508ffac897cd",
   "metadata": {},
   "outputs": [],
   "source": [
    "def make_sets_json(df, texto, valores, out_train, out_test):\n",
    "    xtrain, xtest, ytrain, ytest = train_test_split(texto, valores, test_size = 0.2, random_state = 42)\n",
    "    tr = pd.DataFrame({\"text\":xtrain, \"klass\":ytrain})\n",
    "    tr.to_json(out_train, orient = \"records\",lines = True)\n",
    "    \n",
    "    ts = pd.DataFrame({\"text\":xtest, \"klass\":ytest})\n",
    "    ts.to_json(out_test, orient = \"records\",lines = True)\n"
   ]
  },
  {
   "cell_type": "code",
   "execution_count": 12,
   "id": "e825049e-519e-4fa8-919f-a9b80d85e286",
   "metadata": {},
   "outputs": [],
   "source": [
    "make_sets_json(df, df.Review.values, df.Polarity.values, \"Rest-Mex25_Pol_train.json\", \"Rest-Mex25_Pol_test.json\")"
   ]
  },
  {
   "cell_type": "code",
   "execution_count": 14,
   "id": "c481beb4",
   "metadata": {},
   "outputs": [],
   "source": [
    "make_sets_json(df, df.Review.values, df.Town.values, \"Rest-Mex25_Tow_train.json\", \"Rest-Mex25_Tow_test.json\")"
   ]
  },
  {
   "cell_type": "code",
   "execution_count": 16,
   "id": "49bb1e3c",
   "metadata": {},
   "outputs": [],
   "source": [
    "make_sets_json(df, df.Review.values, df.Region.values, \"Rest-Mex25_Reg_train.json\", \"Rest-Mex25_Reg_test.json\")"
   ]
  },
  {
   "cell_type": "code",
   "execution_count": 18,
   "id": "4750e332-816c-4d21-9dd8-77893456bb2f",
   "metadata": {},
   "outputs": [],
   "source": [
    "make_sets_json(df, df.Review.values, df.Type.values, \"Rest_Mex_Typ_train.json\", \"Rest_Mex_Typ_test.json\")"
   ]
  },
  {
   "cell_type": "markdown",
   "id": "c1d79c56-4b03-48fd-8ba2-de82631b5978",
   "metadata": {},
   "source": [
    "## DATOS TO CSV (FASTTEXT)"
   ]
  },
  {
   "cell_type": "code",
   "execution_count": 22,
   "id": "9dc5e1ab-eba7-4e4a-ba02-ed1fc8fd3aa2",
   "metadata": {},
   "outputs": [],
   "source": [
    "def make_sets_csv(df, texto, valores, out_train, out_test):\n",
    "    df_aux = pd.DataFrame({'final_data': \"__label__\"+valores.astype(str)+\" \"+texto})\n",
    "    train, test = train_test_split(df_aux, test_size=0.2)\n",
    "    train.to_csv(out_train ,columns=['final_data'],index=False,header=False)\n",
    "    test.to_csv(out_test ,columns=['final_data'],index=False,header=False)"
   ]
  },
  {
   "cell_type": "code",
   "execution_count": 24,
   "id": "47e3c2d5-1275-4766-bade-b3d0f9e5a169",
   "metadata": {},
   "outputs": [],
   "source": [
    "make_sets_csv(df, df[\"Review\"], df[\"Polarity\"], \"Rest-Mex25_Pol_train.csv\", \"Rest-Mex25_Pol_test.csv\")"
   ]
  },
  {
   "cell_type": "code",
   "execution_count": 26,
   "id": "3eabd4b0",
   "metadata": {},
   "outputs": [],
   "source": [
    "make_sets_csv(df, df[\"Review\"], df[\"Town\"], \"Rest-Mex25_Tow_train.csv\", \"Rest-Mex25_Tow_test.csv\")"
   ]
  },
  {
   "cell_type": "code",
   "execution_count": 28,
   "id": "7b061901",
   "metadata": {},
   "outputs": [],
   "source": [
    "make_sets_csv(df, df[\"Review\"], df[\"Region\"], \"Rest-Mex25_Reg_train.csv\", \"Rest-Mex25_Reg_test.csv\")"
   ]
  },
  {
   "cell_type": "code",
   "execution_count": 30,
   "id": "7a989483-41b4-4bc3-b499-8351a5f31e96",
   "metadata": {},
   "outputs": [],
   "source": [
    "make_sets_csv(df, df[\"Review\"], df[\"Type\"], \"Rest-Mex25_Typ_train.csv\", \"Rest-Mex25_Typ_test.csv\")"
   ]
  },
  {
   "cell_type": "code",
   "execution_count": null,
   "id": "f274b620-23e4-40ac-81f1-6ccaab68ce44",
   "metadata": {},
   "outputs": [],
   "source": []
  }
 ],
 "metadata": {
  "kernelspec": {
   "display_name": "Python 3 (ipykernel)",
   "language": "python",
   "name": "python3"
  },
  "language_info": {
   "codemirror_mode": {
    "name": "ipython",
    "version": 3
   },
   "file_extension": ".py",
   "mimetype": "text/x-python",
   "name": "python",
   "nbconvert_exporter": "python",
   "pygments_lexer": "ipython3",
   "version": "3.12.4"
  }
 },
 "nbformat": 4,
 "nbformat_minor": 5
}
